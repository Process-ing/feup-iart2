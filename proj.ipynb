{
 "cells": [
  {
   "cell_type": "markdown",
   "id": "a71e5de0",
   "metadata": {},
   "source": [
    "## Data setup\n",
    "\n",
    "<div class=\"alert alert-block alert-warning\">\n",
    "<b>⚠️</b> Don't forget to download the Kaggle token associated with your account from the Settings page: https://www.kaggle.com/settings\n",
    "</div>\n"
   ]
  },
  {
   "cell_type": "code",
   "execution_count": null,
   "id": "aa775246",
   "metadata": {},
   "outputs": [],
   "source": [
    "import os\n",
    "from pathlib import Path\n",
    "\n",
    "os.environ['KAGGLE_CONFIG_DIR'] = os.getcwd()\n",
    "\n",
    "!kaggle competitions download -c playground-series-s5e2\n",
    "data_dir = Path(\"data\")\n",
    "data_dir.mkdir(parents=True, exist_ok=True)\n",
    "!mv playground-series-s5e2.zip data/\n",
    "os.chdir(data_dir)\n",
    "!unzip -o playground-series-s5e2.zip\n",
    "!rm playground-series-s5e2.zip\n",
    "!ls -lh\n",
    "os.chdir(\"..\")\n"
   ]
  },
  {
   "cell_type": "markdown",
   "id": "999020a2",
   "metadata": {},
   "source": [
    "## Load data"
   ]
  },
  {
   "cell_type": "code",
   "execution_count": null,
   "id": "cc04d27c",
   "metadata": {},
   "outputs": [],
   "source": [
    "import pandas as pd\n",
    "\n",
    "train_data = pd.read_csv('data/training_extra.csv')\n",
    "test_data = pd.read_csv('data/test.csv')\n",
    "\n",
    "train_data.info()\n",
    "train_data.head()"
   ]
  },
  {
   "cell_type": "code",
   "execution_count": null,
   "id": "41ff278b",
   "metadata": {},
   "outputs": [],
   "source": [
    "missing_values = train_data[train_data.isna().any(axis=1)]\n",
    "print(len(missing_values))\n",
    "missing_values.head()"
   ]
  },
  {
   "cell_type": "code",
   "execution_count": null,
   "id": "d1794664",
   "metadata": {},
   "outputs": [],
   "source": [
    "train_data.describe()"
   ]
  },
  {
   "cell_type": "code",
   "execution_count": null,
   "id": "d5082b0d",
   "metadata": {},
   "outputs": [],
   "source": [
    "%matplotlib inline\n",
    "import matplotlib.pyplot as plt\n",
    "import seaborn as sns\n",
    "\n",
    "numeric_cols = ['Compartments', 'Weight Capacity (kg)', 'Price']\n",
    "\n",
    "df_numeric = train_data[numeric_cols].dropna()\n",
    "\n",
    "sns.pairplot(df_numeric)\n"
   ]
  },
  {
   "cell_type": "markdown",
   "id": "d147cadd",
   "metadata": {},
   "source": [
    "## Encode categorical features and define features and targets"
   ]
  },
  {
   "cell_type": "code",
   "execution_count": null,
   "id": "3ae6153e",
   "metadata": {},
   "outputs": [],
   "source": [
    "from sklearn.tree import DecisionTreeRegressor\n",
    "from sklearn.model_selection import train_test_split\n",
    "from sklearn.preprocessing import LabelEncoder\n",
    "from sklearn.metrics import mean_squared_error\n",
    "\n",
    "train_data.dropna(inplace=True)\n",
    "label_encoders = {}\n",
    "for col in ['Brand', 'Material', 'Size', 'Laptop Compartment', 'Waterproof', 'Style', 'Color']:\n",
    "    le = LabelEncoder()\n",
    "    train_data[col] = le.fit_transform(train_data[col])\n",
    "    label_encoders[col] = le\n",
    "\n",
    "X = train_data.drop('Price', axis=1)\n",
    "y = train_data['Price']"
   ]
  },
  {
   "cell_type": "code",
   "execution_count": null,
   "id": "fcd90ff7",
   "metadata": {},
   "outputs": [],
   "source": [
    "X_train, X_test, y_train, y_test = train_test_split(X, y, test_size=0.25, random_state=1)\n",
    "\n",
    "model = DecisionTreeRegressor(random_state=1, max_depth=5)\n",
    "model.fit(X_train, y_train)\n",
    "\n",
    "y_pred = model.predict(X_test)\n",
    "mse = mean_squared_error(y_test, y_pred)\n",
    "print(f\"Mean Squared Error: {mse:.2f}\")\n",
    "print(f\"Root Mean Squared Error: {mse**0.5:.2f}\")\n",
    "\n"
   ]
  },
  {
   "cell_type": "code",
   "execution_count": null,
   "id": "84ec04a9",
   "metadata": {},
   "outputs": [],
   "source": [
    "from sklearn.tree import export_graphviz\n",
    "from sklearn import tree\n",
    "import matplotlib.pyplot as plt\n",
    "from sklearn.tree import plot_tree\n",
    "plt.figure(figsize=(100, 20))\n",
    "plot_tree(model, filled=True, feature_names=X.columns, fontsize=10, max_depth=5)\n",
    "plt.title(\"Decision Tree Visualization\")\n",
    "plt.show()\n"
   ]
  }
 ],
 "metadata": {
  "kernelspec": {
   "display_name": ".venv",
   "language": "python",
   "name": "python3"
  },
  "language_info": {
   "codemirror_mode": {
    "name": "ipython",
    "version": 3
   },
   "file_extension": ".py",
   "mimetype": "text/x-python",
   "name": "python",
   "nbconvert_exporter": "python",
   "pygments_lexer": "ipython3",
   "version": "3.12.3"
  }
 },
 "nbformat": 4,
 "nbformat_minor": 5
}
