{
 "cells": [
  {
   "cell_type": "markdown",
   "id": "a71e5de0",
   "metadata": {},
   "source": [
    "# Data setup\n",
    "\n",
    "Don't forget to download the Kaggle token from https://www.kaggle.com/settings"
   ]
  },
  {
   "cell_type": "code",
   "execution_count": null,
   "id": "aa775246",
   "metadata": {},
   "outputs": [],
   "source": [
    "import os\n",
    "\n",
    "os.environ['KAGGLE_CONFIG_DIR'] = os.getcwd()\n",
    "\n",
    "!kaggle competitions download -c playground-series-s5e2\n",
    "!mkdir -p data\n",
    "!mv playground-series-s5e2.zip data/\n",
    "%cd data\n",
    "!unzip playground-series-s5e2.zip\n",
    "!rm playground-series-s5e2.zip\n",
    "!ls -lh"
   ]
  },
  {
   "cell_type": "markdown",
   "id": "c251524e",
   "metadata": {},
   "source": []
  },
  {
   "cell_type": "code",
   "execution_count": null,
   "id": "cc04d27c",
   "metadata": {},
   "outputs": [],
   "source": []
  }
 ],
 "metadata": {
  "kernelspec": {
   "display_name": ".venv",
   "language": "python",
   "name": "python3"
  },
  "language_info": {
   "codemirror_mode": {
    "name": "ipython",
    "version": 3
   },
   "file_extension": ".py",
   "mimetype": "text/x-python",
   "name": "python",
   "nbconvert_exporter": "python",
   "pygments_lexer": "ipython3",
   "version": "3.13.2"
  }
 },
 "nbformat": 4,
 "nbformat_minor": 5
}
