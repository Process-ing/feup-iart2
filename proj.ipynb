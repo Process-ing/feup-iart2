{
 "cells": [
  {
   "cell_type": "markdown",
   "id": "a71e5de0",
   "metadata": {},
   "source": [
    "## Data setup\n",
    "\n",
    "<div class=\"alert alert-block alert-warning\">\n",
    "<b>⚠️</b> Don't forget to download the Kaggle token associated with your account from the <a href=\"https://www.kaggle.com/settings\">Settings page</a>\n",
    "</div>"
   ]
  },
  {
   "cell_type": "code",
   "execution_count": null,
   "id": "aa775246",
   "metadata": {},
   "outputs": [],
   "source": [
    "import os\n",
    "from pathlib import Path\n",
    "\n",
    "os.environ['KAGGLE_CONFIG_DIR'] = os.getcwd()\n",
    "\n",
    "!kaggle competitions download -c playground-series-s5e2\n",
    "data_dir = Path(\"data\")\n",
    "data_dir.mkdir(parents=True, exist_ok=True)\n",
    "!mv playground-series-s5e2.zip data/\n",
    "os.chdir(data_dir)\n",
    "!unzip -o playground-series-s5e2.zipnd-series-s5e2.zip\n",
    "!rm playground-series-s5e2.zip\n",
    "!ls -lh\n",
    "os.chdir(\"..\")\n"
   ]
  },
  {
   "cell_type": "markdown",
   "id": "999020a2",
   "metadata": {},
   "source": [
    "## Load data"
   ]
  },
  {
   "cell_type": "code",
   "execution_count": null,
   "id": "cc04d27c",
   "metadata": {},
   "outputs": [],
   "source": [
    "import pandas as pd\n",
    "\n",
    "train_data = pd.read_csv('data/train.csv')\n",
    "test_data = pd.read_csv('data/test.csv')\n",
    "data = pd.concat([train_data, test_data], axis=0, ignore_index=True)\n",
    "\n",
    "data.info()\n",
    "print(data.head())"
   ]
  },
  {
   "cell_type": "markdown",
   "id": "fcd1f71c",
   "metadata": {},
   "source": [
    "## Exploratory Data Analysis\n",
    "\n",
    "Missing Data"
   ]
  },
  {
   "cell_type": "code",
   "execution_count": null,
   "id": "be864bdd",
   "metadata": {},
   "outputs": [],
   "source": [
    "missing_values_train = pd.DataFrame({\n",
    "    'Column': train_data.columns,\n",
    "    'Missing Train Values': train_data.isnull().sum().values,\n",
    "    'Percentage of Missing Train Values': train_data.isnull().sum().values / len(train_data) * 100\n",
    "})\n",
    "\n",
    "missing_values_test = pd.DataFrame({\n",
    "    'Column': test_data.columns,\n",
    "    'Missing Test Values': test_data.isnull().sum().values,\n",
    "    'Percentage of Missing Test Values': test_data.isnull().sum().values / len(test_data) * 100\n",
    "})\n",
    "\n",
    "merged_missing_values = pd.merge(missing_values_train, missing_values_test, on='Column', how='outer')\n",
    "merged_missing_values = merged_missing_values[~merged_missing_values['Column'].isin(['id', 'Price'])]\n",
    "merged_missing_values"
   ]
  },
  {
   "cell_type": "markdown",
   "id": "9259fcdd",
   "metadata": {},
   "source": [
    "Duplicated Data"
   ]
  },
  {
   "cell_type": "code",
   "execution_count": null,
   "id": "7ee7778d",
   "metadata": {},
   "outputs": [],
   "source": [
    "train_data_duplicates = train_data.drop('id', axis=1).duplicated().sum()\n",
    "test_data_duplicates = test_data.drop('id', axis=1).duplicated().sum()\n",
    "print(f\"Train data duplicates: {train_data_duplicates}\")\n",
    "print(f\"Test data duplicates: {test_data_duplicates}\")"
   ]
  },
  {
   "cell_type": "markdown",
   "id": "c3e83d67",
   "metadata": {},
   "source": [
    "Data Description"
   ]
  },
  {
   "cell_type": "code",
   "execution_count": null,
   "id": "d1794664",
   "metadata": {},
   "outputs": [],
   "source": [
    "# pd.concat([train_data.describe(), test_data.describe()], axis=1, keys=['Train', 'Test'])\n",
    "data.describe()"
   ]
  },
  {
   "cell_type": "markdown",
   "id": "d6ddadd5",
   "metadata": {},
   "source": [
    "Distribution of Data"
   ]
  },
  {
   "cell_type": "code",
   "execution_count": null,
   "id": "7bc9bc0d",
   "metadata": {},
   "outputs": [],
   "source": [
    "import matplotlib.pyplot as plt\n",
    "import seaborn as sns\n",
    "import numpy as np\n",
    "\n",
    "def plot_text_columns(data, columns):\n",
    "    for column in columns:\n",
    "        plt.figure(figsize=(10, 6))\n",
    "        sns.countplot(data[column], order=data[column].value_counts().index)\n",
    "        plt.title(f\"Distribution of {column}\")\n",
    "        plt.show()\n",
    "\n",
    "def plot_numeric_columns(data, columns):\n",
    "    for column in columns:\n",
    "        plt.figure(figsize=(10, 6))\n",
    "        sns.histplot(data[column], bins=30)\n",
    "        plt.title(f\"Distribution of {column}\")\n",
    "        plt.show()\n",
    "\n",
    "plot_text_columns(data, data.columns[data.dtypes == 'object'].tolist())\n",
    "plot_numeric_columns(data, [col for col in data.columns if col != 'id' and data[col].dtypes != 'object'])\n",
    "\n",
    "def plot_correlation_matrix(data):\n",
    "    plt.figure(figsize=(12, 10))\n",
    "    corr = data.corr()\n",
    "    mask = np.triu(np.ones_like(corr, dtype=bool))\n",
    "    sns.heatmap(corr, mask=mask, cmap='coolwarm', annot=True, fmt=\".2f\", square=True)\n",
    "    plt.title(\"Correlation Matrix\")\n",
    "    plt.show()\n",
    "plot_correlation_matrix(data)"
   ]
  },
  {
   "cell_type": "markdown",
   "id": "952a82f5",
   "metadata": {},
   "source": []
  },
  {
   "cell_type": "markdown",
   "id": "bc1a773f",
   "metadata": {},
   "source": [
    "Data Imputation"
   ]
  },
  {
   "cell_type": "code",
   "execution_count": null,
   "id": "8796da3d",
   "metadata": {},
   "outputs": [],
   "source": [
    "categorical_columns = ['Brand', 'Material', 'Size', 'Laptop Compartment', 'Waterproof', 'Style', 'Color']\n",
    "numerical_columns = ['Weight Capacity (kg)']\n",
    "\n",
    "def impute_data(df):\n",
    "    for col in categorical_columns:\n",
    "        df[col] = df[col].fillna(df[col].mode()[0])\n",
    "    for col in numerical_columns:\n",
    "        df[col] = df[col].fillna(df[col].median())\n",
    "\n",
    "impute_data(train_data)\n",
    "impute_data(test_data)"
   ]
  },
  {
   "cell_type": "markdown",
   "id": "58569867",
   "metadata": {},
   "source": [
    "Data Encoding"
   ]
  },
  {
   "cell_type": "code",
   "execution_count": null,
   "id": "410c8e71",
   "metadata": {},
   "outputs": [],
   "source": [
    "new_columns = ['IBrand', 'IMaterial', 'ISize', 'Has Laptop Compartment', 'Is Waterproof', 'IStyle', 'IColor']\n",
    "\n",
    "def encode_data(df):\n",
    "    for col in ['Brand', 'Material', 'Style', 'Color']:\n",
    "        df['I' + col] = df[col].astype('category').cat.codes\n",
    "\n",
    "    df['ISize'] = df['Size'].map({'Small': 1, 'Medium': 2, 'Large': 3})\n",
    "\n",
    "    df['Has Laptop Compartment'] = df['Laptop Compartment'].map({'Yes': 1, 'No': 0})\n",
    "    df['Is Waterproof'] = df['Waterproof'].map({'Yes': 1, 'No': 0})\n",
    "\n",
    "encode_data(train_data)\n",
    "encode_data(test_data)"
   ]
  },
  {
   "cell_type": "code",
   "execution_count": null,
   "id": "6e0d3fa0",
   "metadata": {},
   "outputs": [],
   "source": [
    "train_data.head()\n",
    "test_data.head()"
   ]
  },
  {
   "cell_type": "markdown",
   "id": "c4893593",
   "metadata": {},
   "source": [
    "Data Correlation"
   ]
  },
  {
   "cell_type": "code",
   "execution_count": null,
   "id": "d5082b0d",
   "metadata": {},
   "outputs": [],
   "source": [
    "%matplotlib inline\n",
    "import matplotlib.pyplot as plt\n",
    "import seaborn as sns\n",
    "\n",
    "numeric_cols = ['Brand', 'Material', 'Price']\n",
    "\n",
    "df_numeric = train_data[numeric_cols].dropna()\n",
    "\n",
    "sns.pairplot(df_numeric)\n"
   ]
  },
  {
   "cell_type": "markdown",
   "id": "d147cadd",
   "metadata": {},
   "source": [
    "## Encode categorical features and define features and targets"
   ]
  },
  {
   "cell_type": "code",
   "execution_count": null,
   "id": "3ae6153e",
   "metadata": {},
   "outputs": [],
   "source": [
    "from sklearn.tree import DecisionTreeRegressor\n",
    "from sklearn.model_selection import train_test_split\n",
    "from sklearn.metrics import mean_squared_error\n",
    "\n",
    "input_columns = ['IBrand', 'IMaterial', 'ISize', 'Compartments', 'Has Laptop Compartment', 'Is Waterproof', 'IStyle', 'IColor', 'Weight Capacity (kg)']\n",
    "\n",
    "X = train_data[input_columns]\n",
    "y = train_data['Price']"
   ]
  },
  {
   "cell_type": "code",
   "execution_count": null,
   "id": "fcd90ff7",
   "metadata": {},
   "outputs": [],
   "source": [
    "X_train, X_test, y_train, y_test = train_test_split(X, y, test_size=0.25, random_state=4)\n",
    "\n",
    "model = DecisionTreeRegressor(random_state=32, max_depth=5)\n",
    "model.fit(X_train, y_train)\n",
    "\n",
    "y_pred = model.predict(X_test)\n",
    "mse = mean_squared_error(y_test, y_pred)\n",
    "print(f\"Mean Squared Error: {mse:.2f}\")\n",
    "print(f\"Root Mean Squared Error: {mse**0.5:.2f}\")"
   ]
  },
  {
   "cell_type": "code",
   "execution_count": null,
   "id": "84ec04a9",
   "metadata": {},
   "outputs": [],
   "source": [
    "from sklearn.tree import export_graphviz\n",
    "from sklearn import tree\n",
    "import matplotlib.pyplot as plt\n",
    "from sklearn.tree import plot_tree\n",
    "plt.figure(figsize=(100, 20))\n",
    "plot_tree(model, filled=True, feature_names=X.columns, fontsize=10, max_depth=5)\n",
    "plt.title(\"Decision Tree Visualization\")\n",
    "plt.show()\n"
   ]
  },
  {
   "cell_type": "code",
   "execution_count": null,
   "id": "e7f3bb21",
   "metadata": {},
   "outputs": [],
   "source": [
    "# get all the values from hte Brand column\n",
    "brand_values = train_data['IBrand'].unique()\n",
    "# get average price per brand\n",
    "avg_price_per_brand = train_data.groupby('IBrand')['Price'].mean().sort_values(ascending=False)\n",
    "avg_price_per_brand\n"
   ]
  }
 ],
 "metadata": {
  "kernelspec": {
   "display_name": ".venv",
   "language": "python",
   "name": "python3"
  },
  "language_info": {
   "codemirror_mode": {
    "name": "ipython",
    "version": 3
   },
   "file_extension": ".py",
   "mimetype": "text/x-python",
   "name": "python",
   "nbconvert_exporter": "python",
   "pygments_lexer": "ipython3",
   "version": "3.13.3"
  }
 },
 "nbformat": 4,
 "nbformat_minor": 5
}
